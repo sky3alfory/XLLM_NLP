{
 "cells": [
  {
   "cell_type": "code",
   "execution_count": 5,
   "metadata": {},
   "outputs": [],
   "source": [
    "import os\n",
    "os.environ[\"CUDA_VISIBLE_DEVICES\"] = \"1\""
   ]
  },
  {
   "cell_type": "code",
   "execution_count": 6,
   "metadata": {},
   "outputs": [],
   "source": [
    "# import pandas as pd\n",
    "# # import os\n",
    "# from datasets import load_dataset\n",
    "\n",
    "# # cwd = os.getcwd()\n",
    "\n",
    "# dataset = load_dataset('ag_news')\n",
    "# print(dataset)"
   ]
  },
  {
   "cell_type": "code",
   "execution_count": 7,
   "metadata": {},
   "outputs": [],
   "source": [
    "# df_train = pd.DataFrame(dataset['train'])\n",
    "# # df_train : Index(['text', 'label'], dtype='object')\n",
    "# df_test = pd.DataFrame(dataset['test'])\n",
    "\n",
    "# # train data의 \" \"(띄워쓰기) 를 \"_\"로 변환\n",
    "# # df_train.columns = df_train.columns.str.replace(\" \",\"_\")\n",
    "\n",
    "# df_train['name'] = df_train['label'].map({0:\"World\", 1:\"Sports\", 2 : \"Business\", 3 :\"Sci_Tech\"})\n",
    "# # print(df_train['text'][100],df_train['label'][100])\n",
    "\n",
    "# for i in range(10):\n",
    "#     print(\"Title of Article\",i)\n",
    "#     print(df_train.loc[i,\"title\"])\n",
    "#     print(\"\\n\")"
   ]
  },
  {
   "cell_type": "code",
   "execution_count": 8,
   "metadata": {},
   "outputs": [
    {
     "name": "stdout",
     "output_type": "stream",
     "text": [
      "        Class Index                                              Title  \\\n",
      "0                 3  Wall St. Bears Claw Back Into the Black (Reuters)   \n",
      "1                 3  Carlyle Looks Toward Commercial Aerospace (Reu...   \n",
      "2                 3    Oil and Economy Cloud Stocks' Outlook (Reuters)   \n",
      "3                 3  Iraq Halts Oil Exports from Main Southern Pipe...   \n",
      "4                 3  Oil prices soar to all-time record, posing new...   \n",
      "...             ...                                                ...   \n",
      "119995            1  Pakistan's Musharraf Says Won't Quit as Army C...   \n",
      "119996            2                  Renteria signing a top-shelf deal   \n",
      "119997            2                    Saban not going to Dolphins yet   \n",
      "119998            2                                  Today's NFL games   \n",
      "119999            2                       Nets get Carter from Raptors   \n",
      "\n",
      "                                              Description  \n",
      "0       Reuters - Short-sellers, Wall Street's dwindli...  \n",
      "1       Reuters - Private investment firm Carlyle Grou...  \n",
      "2       Reuters - Soaring crude prices plus worries\\ab...  \n",
      "3       Reuters - Authorities have halted oil export\\f...  \n",
      "4       AFP - Tearaway world oil prices, toppling reco...  \n",
      "...                                                   ...  \n",
      "119995   KARACHI (Reuters) - Pakistani President Perve...  \n",
      "119996  Red Sox general manager Theo Epstein acknowled...  \n",
      "119997  The Miami Dolphins will put their courtship of...  \n",
      "119998  PITTSBURGH at NY GIANTS Time: 1:30 p.m. Line: ...  \n",
      "119999  INDIANAPOLIS -- All-Star Vince Carter was trad...  \n",
      "\n",
      "[120000 rows x 3 columns]\n"
     ]
    }
   ],
   "source": [
    "import pandas as pd\n",
    "import os\n",
    "\n",
    "data = pd.read_csv(\"/home/sky3alfory/NLP_prac/nlpbook/data/train.csv\")\n",
    "data = pd.DataFrame(data=data)\n",
    "print(data)\n",
    "\n"
   ]
  },
  {
   "cell_type": "code",
   "execution_count": 9,
   "metadata": {},
   "outputs": [
    {
     "data": {
      "text/html": [
       "<div>\n",
       "<style scoped>\n",
       "    .dataframe tbody tr th:only-of-type {\n",
       "        vertical-align: middle;\n",
       "    }\n",
       "\n",
       "    .dataframe tbody tr th {\n",
       "        vertical-align: top;\n",
       "    }\n",
       "\n",
       "    .dataframe thead th {\n",
       "        text-align: right;\n",
       "    }\n",
       "</style>\n",
       "<table border=\"1\" class=\"dataframe\">\n",
       "  <thead>\n",
       "    <tr style=\"text-align: right;\">\n",
       "      <th></th>\n",
       "      <th>class_index</th>\n",
       "      <th>title</th>\n",
       "      <th>description</th>\n",
       "      <th>class_name</th>\n",
       "    </tr>\n",
       "  </thead>\n",
       "  <tbody>\n",
       "    <tr>\n",
       "      <th>0</th>\n",
       "      <td>3</td>\n",
       "      <td>Wall St. Bears Claw Back Into the Black (Reuters)</td>\n",
       "      <td>Reuters - Short-sellers, Wall Street's dwindli...</td>\n",
       "      <td>Business</td>\n",
       "    </tr>\n",
       "    <tr>\n",
       "      <th>1</th>\n",
       "      <td>3</td>\n",
       "      <td>Carlyle Looks Toward Commercial Aerospace (Reu...</td>\n",
       "      <td>Reuters - Private investment firm Carlyle Grou...</td>\n",
       "      <td>Business</td>\n",
       "    </tr>\n",
       "    <tr>\n",
       "      <th>2</th>\n",
       "      <td>3</td>\n",
       "      <td>Oil and Economy Cloud Stocks' Outlook (Reuters)</td>\n",
       "      <td>Reuters - Soaring crude prices plus worries\\ab...</td>\n",
       "      <td>Business</td>\n",
       "    </tr>\n",
       "    <tr>\n",
       "      <th>3</th>\n",
       "      <td>3</td>\n",
       "      <td>Iraq Halts Oil Exports from Main Southern Pipe...</td>\n",
       "      <td>Reuters - Authorities have halted oil export\\f...</td>\n",
       "      <td>Business</td>\n",
       "    </tr>\n",
       "    <tr>\n",
       "      <th>4</th>\n",
       "      <td>3</td>\n",
       "      <td>Oil prices soar to all-time record, posing new...</td>\n",
       "      <td>AFP - Tearaway world oil prices, toppling reco...</td>\n",
       "      <td>Business</td>\n",
       "    </tr>\n",
       "    <tr>\n",
       "      <th>...</th>\n",
       "      <td>...</td>\n",
       "      <td>...</td>\n",
       "      <td>...</td>\n",
       "      <td>...</td>\n",
       "    </tr>\n",
       "    <tr>\n",
       "      <th>119995</th>\n",
       "      <td>1</td>\n",
       "      <td>Pakistan's Musharraf Says Won't Quit as Army C...</td>\n",
       "      <td>KARACHI (Reuters) - Pakistani President Perve...</td>\n",
       "      <td>World</td>\n",
       "    </tr>\n",
       "    <tr>\n",
       "      <th>119996</th>\n",
       "      <td>2</td>\n",
       "      <td>Renteria signing a top-shelf deal</td>\n",
       "      <td>Red Sox general manager Theo Epstein acknowled...</td>\n",
       "      <td>Sports</td>\n",
       "    </tr>\n",
       "    <tr>\n",
       "      <th>119997</th>\n",
       "      <td>2</td>\n",
       "      <td>Saban not going to Dolphins yet</td>\n",
       "      <td>The Miami Dolphins will put their courtship of...</td>\n",
       "      <td>Sports</td>\n",
       "    </tr>\n",
       "    <tr>\n",
       "      <th>119998</th>\n",
       "      <td>2</td>\n",
       "      <td>Today's NFL games</td>\n",
       "      <td>PITTSBURGH at NY GIANTS Time: 1:30 p.m. Line: ...</td>\n",
       "      <td>Sports</td>\n",
       "    </tr>\n",
       "    <tr>\n",
       "      <th>119999</th>\n",
       "      <td>2</td>\n",
       "      <td>Nets get Carter from Raptors</td>\n",
       "      <td>INDIANAPOLIS -- All-Star Vince Carter was trad...</td>\n",
       "      <td>Sports</td>\n",
       "    </tr>\n",
       "  </tbody>\n",
       "</table>\n",
       "<p>120000 rows × 4 columns</p>\n",
       "</div>"
      ],
      "text/plain": [
       "        class_index                                              title  \\\n",
       "0                 3  Wall St. Bears Claw Back Into the Black (Reuters)   \n",
       "1                 3  Carlyle Looks Toward Commercial Aerospace (Reu...   \n",
       "2                 3    Oil and Economy Cloud Stocks' Outlook (Reuters)   \n",
       "3                 3  Iraq Halts Oil Exports from Main Southern Pipe...   \n",
       "4                 3  Oil prices soar to all-time record, posing new...   \n",
       "...             ...                                                ...   \n",
       "119995            1  Pakistan's Musharraf Says Won't Quit as Army C...   \n",
       "119996            2                  Renteria signing a top-shelf deal   \n",
       "119997            2                    Saban not going to Dolphins yet   \n",
       "119998            2                                  Today's NFL games   \n",
       "119999            2                       Nets get Carter from Raptors   \n",
       "\n",
       "                                              description class_name  \n",
       "0       Reuters - Short-sellers, Wall Street's dwindli...   Business  \n",
       "1       Reuters - Private investment firm Carlyle Grou...   Business  \n",
       "2       Reuters - Soaring crude prices plus worries\\ab...   Business  \n",
       "3       Reuters - Authorities have halted oil export\\f...   Business  \n",
       "4       AFP - Tearaway world oil prices, toppling reco...   Business  \n",
       "...                                                   ...        ...  \n",
       "119995   KARACHI (Reuters) - Pakistani President Perve...      World  \n",
       "119996  Red Sox general manager Theo Epstein acknowled...     Sports  \n",
       "119997  The Miami Dolphins will put their courtship of...     Sports  \n",
       "119998  PITTSBURGH at NY GIANTS Time: 1:30 p.m. Line: ...     Sports  \n",
       "119999  INDIANAPOLIS -- All-Star Vince Carter was trad...     Sports  \n",
       "\n",
       "[120000 rows x 4 columns]"
      ]
     },
     "execution_count": 9,
     "metadata": {},
     "output_type": "execute_result"
    }
   ],
   "source": [
    "data.columns =data.columns.str.replace(\" \",\"_\")\n",
    "data.columns = data.columns.str.lower()\n",
    "data[\"class_name\"] = data[\"class_index\"].map({1:\"World\",2:\"Sports\",3:\"Business\",4:\"Sci_Tech\"})\n",
    "data"
   ]
  },
  {
   "cell_type": "code",
   "execution_count": 10,
   "metadata": {},
   "outputs": [
    {
     "data": {
      "text/plain": [
       "class_name\n",
       "Business    30000\n",
       "Sci_Tech    30000\n",
       "Sports      30000\n",
       "World       30000\n",
       "Name: count, dtype: int64"
      ]
     },
     "execution_count": 10,
     "metadata": {},
     "output_type": "execute_result"
    }
   ],
   "source": [
    "data.class_name.value_counts()"
   ]
  },
  {
   "cell_type": "code",
   "execution_count": 11,
   "metadata": {},
   "outputs": [
    {
     "name": "stdout",
     "output_type": "stream",
     "text": [
      "Title of Article 0\n",
      "Wall St. Bears Claw Back Into the Black (Reuters)\n",
      "Description of Article 0\n",
      "Reuters - Short-sellers, Wall Street's dwindling\\band of ultra-cynics, are seeing green again.\n",
      "\n",
      "\n",
      "Title of Article 1\n",
      "Carlyle Looks Toward Commercial Aerospace (Reuters)\n",
      "Description of Article 1\n",
      "Reuters - Private investment firm Carlyle Group,\\which has a reputation for making well-timed and occasionally\\controversial plays in the defense industry, has quietly placed\\its bets on another part of the market.\n",
      "\n",
      "\n",
      "Title of Article 2\n",
      "Oil and Economy Cloud Stocks' Outlook (Reuters)\n",
      "Description of Article 2\n",
      "Reuters - Soaring crude prices plus worries\\about the economy and the outlook for earnings are expected to\\hang over the stock market next week during the depth of the\\summer doldrums.\n",
      "\n",
      "\n",
      "Title of Article 3\n",
      "Iraq Halts Oil Exports from Main Southern Pipeline (Reuters)\n",
      "Description of Article 3\n",
      "Reuters - Authorities have halted oil export\\flows from the main pipeline in southern Iraq after\\intelligence showed a rebel militia could strike\\infrastructure, an oil official said on Saturday.\n",
      "\n",
      "\n",
      "Title of Article 4\n",
      "Oil prices soar to all-time record, posing new menace to US economy (AFP)\n",
      "Description of Article 4\n",
      "AFP - Tearaway world oil prices, toppling records and straining wallets, present a new economic menace barely three months before the US presidential elections.\n",
      "\n",
      "\n",
      "Title of Article 5\n",
      "Stocks End Up, But Near Year Lows (Reuters)\n",
      "Description of Article 5\n",
      "Reuters - Stocks ended slightly higher on Friday\\but stayed near lows for the year as oil prices surged past  #36;46\\a barrel, offsetting a positive outlook from computer maker\\Dell Inc. (DELL.O)\n",
      "\n",
      "\n",
      "Title of Article 6\n",
      "Money Funds Fell in Latest Week (AP)\n",
      "Description of Article 6\n",
      "AP - Assets of the nation's retail money market mutual funds fell by  #36;1.17 billion in the latest week to  #36;849.98 trillion, the Investment Company Institute said Thursday.\n",
      "\n",
      "\n",
      "Title of Article 7\n",
      "Fed minutes show dissent over inflation (USATODAY.com)\n",
      "Description of Article 7\n",
      "USATODAY.com - Retail sales bounced back a bit in July, and new claims for jobless benefits fell last week, the government said Thursday, indicating the economy is improving from a midsummer slump.\n",
      "\n",
      "\n",
      "Title of Article 8\n",
      "Safety Net (Forbes.com)\n",
      "Description of Article 8\n",
      "Forbes.com - After earning a PH.D. in Sociology, Danny Bazil Riley started to work as the general manager at a commercial real estate firm at an annual base salary of  #36;70,000. Soon after, a financial planner stopped by his desk to drop off brochures about insurance benefits available through his employer. But, at 32, \"buying insurance was the furthest thing from my mind,\" says Riley.\n",
      "\n",
      "\n",
      "Title of Article 9\n",
      "Wall St. Bears Claw Back Into the Black\n",
      "Description of Article 9\n",
      " NEW YORK (Reuters) - Short-sellers, Wall Street's dwindling  band of ultra-cynics, are seeing green again.\n",
      "\n",
      "\n"
     ]
    }
   ],
   "source": [
    "for i in range(10):\n",
    "    print(\"Title of Article\",i)\n",
    "    print(data.loc[i,\"title\"])\n",
    "    print(\"Description of Article\",i)\n",
    "    print(data.loc[i,'description'])\n",
    "    print(\"\\n\")"
   ]
  },
  {
   "cell_type": "code",
   "execution_count": 12,
   "metadata": {},
   "outputs": [],
   "source": [
    "cols = [\"title\",\"description\"]\n",
    "data[cols] = data[cols].applymap(lambda x: x.replace(\"\\\\\",\" \"))\n",
    "data[cols] = data[cols].applymap(lambda x: x.replace(\"#36\",\"$\"))\n",
    "data[cols] = data[cols].applymap(lambda x: x.replace(\"  \",\" \"))\n",
    "data[cols] = data[cols].applymap(lambda x: x.strip())\n",
    "\n",
    "data.to_csv(\"/home/sky3alfory/NLP_prac/nlpbook/data/train_prepared.csv\", index=False)"
   ]
  },
  {
   "cell_type": "code",
   "execution_count": null,
   "metadata": {},
   "outputs": [
    {
     "ename": "ValueError",
     "evalue": "GPU is not accessible. Was the library installed correctly?",
     "output_type": "error",
     "traceback": [
      "\u001b[0;31m---------------------------------------------------------------------------\u001b[0m",
      "\u001b[0;31mValueError\u001b[0m                                Traceback (most recent call last)",
      "Cell \u001b[0;32mIn[13], line 8\u001b[0m\n\u001b[1;32m      5\u001b[0m \u001b[38;5;28;01mimport\u001b[39;00m\u001b[38;5;250m \u001b[39m\u001b[38;5;21;01mtorch\u001b[39;00m\n\u001b[1;32m      7\u001b[0m device \u001b[38;5;241m=\u001b[39m torch\u001b[38;5;241m.\u001b[39mdevice(\u001b[38;5;124m\"\u001b[39m\u001b[38;5;124mcuda:0\u001b[39m\u001b[38;5;124m\"\u001b[39m)\n\u001b[0;32m----> 8\u001b[0m \u001b[43mspacy\u001b[49m\u001b[38;5;241;43m.\u001b[39;49m\u001b[43mrequire_gpu\u001b[49m\u001b[43m(\u001b[49m\u001b[43m)\u001b[49m\n\u001b[1;32m      9\u001b[0m \u001b[38;5;28mprint\u001b[39m(spacy\u001b[38;5;241m.\u001b[39mrequire_gpu())\n\u001b[1;32m     10\u001b[0m nlp \u001b[38;5;241m=\u001b[39m spacy\u001b[38;5;241m.\u001b[39mload(\u001b[38;5;124m\"\u001b[39m\u001b[38;5;124men_core_web_trf\u001b[39m\u001b[38;5;124m\"\u001b[39m)\n",
      "File \u001b[0;32m~/.local/lib/python3.8/site-packages/thinc/util.py:212\u001b[0m, in \u001b[0;36mrequire_gpu\u001b[0;34m(gpu_id)\u001b[0m\n\u001b[1;32m    209\u001b[0m \u001b[38;5;28;01mfrom\u001b[39;00m\u001b[38;5;250m \u001b[39m\u001b[38;5;21;01m.\u001b[39;00m\u001b[38;5;21;01mbackends\u001b[39;00m\u001b[38;5;250m \u001b[39m\u001b[38;5;28;01mimport\u001b[39;00m set_current_ops, CupyOps\n\u001b[1;32m    211\u001b[0m \u001b[38;5;28;01mif\u001b[39;00m CupyOps\u001b[38;5;241m.\u001b[39mxp \u001b[38;5;129;01mis\u001b[39;00m \u001b[38;5;28;01mNone\u001b[39;00m:\n\u001b[0;32m--> 212\u001b[0m     \u001b[38;5;28;01mraise\u001b[39;00m \u001b[38;5;167;01mValueError\u001b[39;00m(\u001b[38;5;124m\"\u001b[39m\u001b[38;5;124mGPU is not accessible. Was the library installed correctly?\u001b[39m\u001b[38;5;124m\"\u001b[39m)\n\u001b[1;32m    214\u001b[0m set_current_ops(CupyOps())\n\u001b[1;32m    215\u001b[0m set_active_gpu(gpu_id)\n",
      "\u001b[0;31mValueError\u001b[0m: GPU is not accessible. Was the library installed correctly?"
     ]
    }
   ],
   "source": [
    "# import os\n",
    "# os.environ[\"CUDA_VISIBLE_DEVICES\"] = \"1\"\n",
    "\n",
    "import spacy\n",
    "# import torch\n",
    "\n",
    "# device = torch.device(\"cuda:0\")\n",
    "spacy.require_gpu()\n",
    "print(spacy.require_gpu())\n",
    "nlp = spacy.load(\"en_core_web_trf\")"
   ]
  },
  {
   "cell_type": "code",
   "execution_count": null,
   "metadata": {},
   "outputs": [],
   "source": [
    "from thinc.api import require_gpu\n",
    "import cupy\n",
    "\n",
    "require_gpu()  # GPU 활성화\n",
    "print(\"현재 사용 중인 GPU ID:\", cupy.cuda.runtime.getDevice())\n",
    "print(\"총 사용 가능한 GPU:\", cupy.cuda.runtime.getDeviceCount())"
   ]
  },
  {
   "cell_type": "code",
   "execution_count": null,
   "metadata": {},
   "outputs": [],
   "source": [
    "import pprint\n",
    "pp = pprint.PrettyPrinter(indent=4)\n",
    "pp.pprint(nlp.meta)"
   ]
  },
  {
   "cell_type": "code",
   "execution_count": null,
   "metadata": {},
   "outputs": [],
   "source": [
    "nlp(data.loc[0,\"description\"])\n",
    "# for i in range(9):\n",
    "#     print(\"Article\",i)\n",
    "#     print(data.loc[i,\"description\"])\n",
    "#     print(\"Text Start End Label\")\n",
    "#     doc = nlp(data.loc[i,\"description\"])\n",
    "#     for token in doc.ents:\n",
    "#         print(token.text, token.start_char,token.end_char, token.label)\n",
    "#     print(\"\\n\")"
   ]
  }
 ],
 "metadata": {
  "kernelspec": {
   "display_name": "XLLM",
   "language": "python",
   "name": "python3"
  },
  "language_info": {
   "codemirror_mode": {
    "name": "ipython",
    "version": 3
   },
   "file_extension": ".py",
   "mimetype": "text/x-python",
   "name": "python",
   "nbconvert_exporter": "python",
   "pygments_lexer": "ipython3",
   "version": "3.8.20"
  }
 },
 "nbformat": 4,
 "nbformat_minor": 2
}
